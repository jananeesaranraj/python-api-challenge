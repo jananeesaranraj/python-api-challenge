{
 "cells": [
  {
   "cell_type": "code",
   "execution_count": null,
   "metadata": {},
   "outputs": [],
   "source": []
  }
 ],
 "metadata": {
  "kernelspec": {
   "display_name": "Python 3.9.12 ('base')",
   "language": "python",
   "name": "python3"
  },
  "language_info": {
   "name": "python",
   "version": "3.9.12"
  },
  "orig_nbformat": 4,
  "vscode": {
   "interpreter": {
    "hash": "085fa32e36dc8f02a8348f247ac788ae5db25c658bd69b2e4d3bf016639fdd45"
   }
  }
 },
 "nbformat": 4,
 "nbformat_minor": 2
}
