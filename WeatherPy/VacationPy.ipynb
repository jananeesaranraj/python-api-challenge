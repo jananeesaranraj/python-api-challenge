{
 "cells": [
  {
   "cell_type": "code",
   "execution_count": 80,
   "id": "b9594b46",
   "metadata": {},
   "outputs": [],
   "source": [
    "# Dependencies and Setup\n",
    "import matplotlib.pyplot as plt\n",
    "import pandas as pd\n",
    "import numpy as np\n",
    "import requests\n",
    "import gmaps\n",
    "import os\n",
    "from pprint import pprint\n",
    "# Import API key\n",
    "from api_keys import g_key"
   ]
  },
  {
   "cell_type": "code",
   "execution_count": 81,
   "id": "4cdd9302",
   "metadata": {},
   "outputs": [
    {
     "data": {
      "text/html": [
       "<div>\n",
       "<style scoped>\n",
       "    .dataframe tbody tr th:only-of-type {\n",
       "        vertical-align: middle;\n",
       "    }\n",
       "\n",
       "    .dataframe tbody tr th {\n",
       "        vertical-align: top;\n",
       "    }\n",
       "\n",
       "    .dataframe thead th {\n",
       "        text-align: right;\n",
       "    }\n",
       "</style>\n",
       "<table border=\"1\" class=\"dataframe\">\n",
       "  <thead>\n",
       "    <tr style=\"text-align: right;\">\n",
       "      <th></th>\n",
       "      <th>City</th>\n",
       "      <th>Cloudiness</th>\n",
       "      <th>Country</th>\n",
       "      <th>Date</th>\n",
       "      <th>Humidity</th>\n",
       "      <th>Lat</th>\n",
       "      <th>Lng</th>\n",
       "      <th>Max Temp</th>\n",
       "      <th>Wind Speed</th>\n",
       "    </tr>\n",
       "  </thead>\n",
       "  <tbody>\n",
       "    <tr>\n",
       "      <th>0</th>\n",
       "      <td>albany</td>\n",
       "      <td>6</td>\n",
       "      <td>US</td>\n",
       "      <td>1666412740</td>\n",
       "      <td>72</td>\n",
       "      <td>42.6001</td>\n",
       "      <td>-73.9662</td>\n",
       "      <td>46.81</td>\n",
       "      <td>3.31</td>\n",
       "    </tr>\n",
       "    <tr>\n",
       "      <th>1</th>\n",
       "      <td>yar-sale</td>\n",
       "      <td>100</td>\n",
       "      <td>RU</td>\n",
       "      <td>1666412740</td>\n",
       "      <td>98</td>\n",
       "      <td>66.8333</td>\n",
       "      <td>70.8333</td>\n",
       "      <td>30.04</td>\n",
       "      <td>3.47</td>\n",
       "    </tr>\n",
       "    <tr>\n",
       "      <th>2</th>\n",
       "      <td>punta arenas</td>\n",
       "      <td>98</td>\n",
       "      <td>CL</td>\n",
       "      <td>1666412601</td>\n",
       "      <td>69</td>\n",
       "      <td>-53.1500</td>\n",
       "      <td>-70.9167</td>\n",
       "      <td>46.11</td>\n",
       "      <td>28.05</td>\n",
       "    </tr>\n",
       "    <tr>\n",
       "      <th>3</th>\n",
       "      <td>sitka</td>\n",
       "      <td>100</td>\n",
       "      <td>US</td>\n",
       "      <td>1666412741</td>\n",
       "      <td>87</td>\n",
       "      <td>57.0531</td>\n",
       "      <td>-135.3300</td>\n",
       "      <td>42.69</td>\n",
       "      <td>5.75</td>\n",
       "    </tr>\n",
       "    <tr>\n",
       "      <th>4</th>\n",
       "      <td>vardo</td>\n",
       "      <td>75</td>\n",
       "      <td>NO</td>\n",
       "      <td>1666412741</td>\n",
       "      <td>93</td>\n",
       "      <td>70.3705</td>\n",
       "      <td>31.1107</td>\n",
       "      <td>33.78</td>\n",
       "      <td>23.02</td>\n",
       "    </tr>\n",
       "  </tbody>\n",
       "</table>\n",
       "</div>"
      ],
      "text/plain": [
       "           City  Cloudiness Country        Date  Humidity      Lat       Lng  \\\n",
       "0        albany           6      US  1666412740        72  42.6001  -73.9662   \n",
       "1      yar-sale         100      RU  1666412740        98  66.8333   70.8333   \n",
       "2  punta arenas          98      CL  1666412601        69 -53.1500  -70.9167   \n",
       "3         sitka         100      US  1666412741        87  57.0531 -135.3300   \n",
       "4         vardo          75      NO  1666412741        93  70.3705   31.1107   \n",
       "\n",
       "   Max Temp  Wind Speed  \n",
       "0     46.81        3.31  \n",
       "1     30.04        3.47  \n",
       "2     46.11       28.05  \n",
       "3     42.69        5.75  \n",
       "4     33.78       23.02  "
      ]
     },
     "execution_count": 81,
     "metadata": {},
     "output_type": "execute_result"
    }
   ],
   "source": [
    "#read csv file\n",
    "city_data = pd.read_csv(\"Output_data/cities.csv\" ,index_col=0)\n",
    "city_data.head()"
   ]
  },
  {
   "cell_type": "markdown",
   "id": "db6a3f05",
   "metadata": {},
   "source": [
    "# Humidity Heatmap"
   ]
  },
  {
   "cell_type": "code",
   "execution_count": 82,
   "id": "d556fae9",
   "metadata": {},
   "outputs": [],
   "source": [
    "#configure gmaps with API key\n",
    "gmaps.configure(api_key=g_key)\n"
   ]
  },
  {
   "cell_type": "code",
   "execution_count": 83,
   "id": "95137841",
   "metadata": {},
   "outputs": [
    {
     "data": {
      "application/vnd.jupyter.widget-view+json": {
       "model_id": "54287fc8680048cf9b1f4dfc9a3b7550",
       "version_major": 2,
       "version_minor": 0
      },
      "text/plain": [
       "Figure(layout=FigureLayout(height='420px'))"
      ]
     },
     "metadata": {},
     "output_type": "display_data"
    }
   ],
   "source": [
    "# Store 'Lat' and 'Lng' into  locations \n",
    "locations = city_data[[\"Lat\", \"Lng\"]].astype(float)\n",
    "weights= city_data[\"Humidity\"]\n",
    "\n",
    "# Create HeatMap\n",
    "fig = gmaps.figure()\n",
    "heat_layer = gmaps.heatmap_layer(locations,weights = weights,\n",
    "                              dissipating=False, max_intensity=100,\n",
    "                              point_radius = 3)\n",
    "fig.add_layer(heat_layer)\n",
    "fig"
   ]
  },
  {
   "cell_type": "code",
   "execution_count": 84,
   "id": "fa76ddad",
   "metadata": {},
   "outputs": [
    {
     "name": "stderr",
     "output_type": "stream",
     "text": [
      "C:\\Users\\13135\\anaconda3\\envs\\PythonData\\lib\\site-packages\\ipykernel_launcher.py:11: SettingWithCopyWarning: \n",
      "A value is trying to be set on a copy of a slice from a DataFrame.\n",
      "Try using .loc[row_indexer,col_indexer] = value instead\n",
      "\n",
      "See the caveats in the documentation: https://pandas.pydata.org/pandas-docs/stable/user_guide/indexing.html#returning-a-view-versus-a-copy\n",
      "  # This is added back by InteractiveShellApp.init_path()\n"
     ]
    },
    {
     "data": {
      "text/html": [
       "<div>\n",
       "<style scoped>\n",
       "    .dataframe tbody tr th:only-of-type {\n",
       "        vertical-align: middle;\n",
       "    }\n",
       "\n",
       "    .dataframe tbody tr th {\n",
       "        vertical-align: top;\n",
       "    }\n",
       "\n",
       "    .dataframe thead th {\n",
       "        text-align: right;\n",
       "    }\n",
       "</style>\n",
       "<table border=\"1\" class=\"dataframe\">\n",
       "  <thead>\n",
       "    <tr style=\"text-align: right;\">\n",
       "      <th></th>\n",
       "      <th>City</th>\n",
       "      <th>Country</th>\n",
       "      <th>Cloudiness</th>\n",
       "      <th>Lat</th>\n",
       "      <th>Lng</th>\n",
       "      <th>Max Temp</th>\n",
       "      <th>Wind Speed</th>\n",
       "      <th>Hotel Name</th>\n",
       "    </tr>\n",
       "  </thead>\n",
       "  <tbody>\n",
       "    <tr>\n",
       "      <th>0</th>\n",
       "      <td>atuona</td>\n",
       "      <td>PF</td>\n",
       "      <td>0</td>\n",
       "      <td>-9.8000</td>\n",
       "      <td>-139.0333</td>\n",
       "      <td>76.98</td>\n",
       "      <td>14.32</td>\n",
       "      <td></td>\n",
       "    </tr>\n",
       "    <tr>\n",
       "      <th>1</th>\n",
       "      <td>carnarvon</td>\n",
       "      <td>AU</td>\n",
       "      <td>0</td>\n",
       "      <td>-24.8667</td>\n",
       "      <td>113.6333</td>\n",
       "      <td>73.67</td>\n",
       "      <td>14.38</td>\n",
       "      <td></td>\n",
       "    </tr>\n",
       "    <tr>\n",
       "      <th>2</th>\n",
       "      <td>jasper</td>\n",
       "      <td>US</td>\n",
       "      <td>0</td>\n",
       "      <td>37.2001</td>\n",
       "      <td>-94.3502</td>\n",
       "      <td>73.00</td>\n",
       "      <td>14.97</td>\n",
       "      <td></td>\n",
       "    </tr>\n",
       "    <tr>\n",
       "      <th>3</th>\n",
       "      <td>gatesville</td>\n",
       "      <td>US</td>\n",
       "      <td>0</td>\n",
       "      <td>31.4352</td>\n",
       "      <td>-97.7439</td>\n",
       "      <td>72.36</td>\n",
       "      <td>16.42</td>\n",
       "      <td></td>\n",
       "    </tr>\n",
       "    <tr>\n",
       "      <th>4</th>\n",
       "      <td>arlington</td>\n",
       "      <td>US</td>\n",
       "      <td>0</td>\n",
       "      <td>32.7357</td>\n",
       "      <td>-97.1081</td>\n",
       "      <td>77.32</td>\n",
       "      <td>18.41</td>\n",
       "      <td></td>\n",
       "    </tr>\n",
       "  </tbody>\n",
       "</table>\n",
       "</div>"
      ],
      "text/plain": [
       "         City Country  Cloudiness      Lat       Lng  Max Temp  Wind Speed  \\\n",
       "0      atuona      PF           0  -9.8000 -139.0333     76.98       14.32   \n",
       "1   carnarvon      AU           0 -24.8667  113.6333     73.67       14.38   \n",
       "2      jasper      US           0  37.2001  -94.3502     73.00       14.97   \n",
       "3  gatesville      US           0  31.4352  -97.7439     72.36       16.42   \n",
       "4   arlington      US           0  32.7357  -97.1081     77.32       18.41   \n",
       "\n",
       "  Hotel Name  \n",
       "0             \n",
       "1             \n",
       "2             \n",
       "3             \n",
       "4             "
      ]
     },
     "execution_count": 84,
     "metadata": {},
     "output_type": "execute_result"
    }
   ],
   "source": [
    "# A max temperature lower than 80 degrees but higher than 70\n",
    "# Wind speed less than 10 mph\n",
    "# Zero cloudiness\n",
    "new_df = city_data.loc[(city_data[\"Max Temp\"]>=70) & (city_data[\"Max Temp\"]<80)]\n",
    "new_df = new_df.loc[(new_df[\"Wind Speed\"]>10) & (new_df[\"Cloudiness\"]==0)]\n",
    "filtered_df = new_df.reset_index(drop=True)\n",
    "#remove rows with null values\n",
    "filtered_df.dropna()\n",
    "#ctreating new dataframe with few columns and new column\n",
    "hotel_df = filtered_df[[\"City\",\"Country\",\"Cloudiness\",\"Lat\",\"Lng\",\"Max Temp\",\"Wind Speed\"]]\n",
    "hotel_df[\"Hotel Name\"] = \"\"\n",
    "hotel_df"
   ]
  },
  {
   "cell_type": "code",
   "execution_count": 85,
   "id": "26056db2",
   "metadata": {},
   "outputs": [
    {
     "name": "stderr",
     "output_type": "stream",
     "text": [
      "C:\\Users\\13135\\anaconda3\\envs\\PythonData\\lib\\site-packages\\pandas\\core\\indexing.py:966: SettingWithCopyWarning: \n",
      "A value is trying to be set on a copy of a slice from a DataFrame.\n",
      "Try using .loc[row_indexer,col_indexer] = value instead\n",
      "\n",
      "See the caveats in the documentation: https://pandas.pydata.org/pandas-docs/stable/user_guide/indexing.html#returning-a-view-versus-a-copy\n",
      "  self.obj[item] = s\n"
     ]
    }
   ],
   "source": [
    "# params dictionary to update each iteration\n",
    "params = {\n",
    "    \"radius\": 5000,\n",
    "    \"keyword\": \"hotel\",\n",
    "    \"key\": g_key}\n",
    "\n",
    "#looping through the dataframe\n",
    "for index,row in hotel_df.iterrows():\n",
    "    lat=row[\"Lat\"]\n",
    "    lng=row[\"Lng\"]\n",
    "    params[\"location\"]=f\"{lat},{lng}\"\n",
    "    \n",
    "     # Use the search term: \"Hotel\" and our lat/lng\n",
    "    base_url = \"https://maps.googleapis.com/maps/api/place/nearbysearch/json\"\n",
    "    # make request and print url\n",
    "    hotel_name = requests.get(base_url, params=params)\n",
    "     # convert to json\n",
    "    response = hotel_name.json()\n",
    "    try:\n",
    "        hotel_df.loc[index,\"Hotel Name\"]=response['results'][0]['name']        \n",
    "    except (KeyError, IndexError):\n",
    "        print(\"Missing field/result... skipping.\")\n",
    "#     pprint(response)"
   ]
  },
  {
   "cell_type": "code",
   "execution_count": 86,
   "id": "3a0c2771",
   "metadata": {},
   "outputs": [
    {
     "data": {
      "text/html": [
       "<div>\n",
       "<style scoped>\n",
       "    .dataframe tbody tr th:only-of-type {\n",
       "        vertical-align: middle;\n",
       "    }\n",
       "\n",
       "    .dataframe tbody tr th {\n",
       "        vertical-align: top;\n",
       "    }\n",
       "\n",
       "    .dataframe thead th {\n",
       "        text-align: right;\n",
       "    }\n",
       "</style>\n",
       "<table border=\"1\" class=\"dataframe\">\n",
       "  <thead>\n",
       "    <tr style=\"text-align: right;\">\n",
       "      <th></th>\n",
       "      <th>City</th>\n",
       "      <th>Country</th>\n",
       "      <th>Cloudiness</th>\n",
       "      <th>Lat</th>\n",
       "      <th>Lng</th>\n",
       "      <th>Max Temp</th>\n",
       "      <th>Wind Speed</th>\n",
       "      <th>Hotel Name</th>\n",
       "    </tr>\n",
       "  </thead>\n",
       "  <tbody>\n",
       "    <tr>\n",
       "      <th>0</th>\n",
       "      <td>atuona</td>\n",
       "      <td>PF</td>\n",
       "      <td>0</td>\n",
       "      <td>-9.8000</td>\n",
       "      <td>-139.0333</td>\n",
       "      <td>76.98</td>\n",
       "      <td>14.32</td>\n",
       "      <td>Hôtel Hiva Oa Hanakee Lodge</td>\n",
       "    </tr>\n",
       "    <tr>\n",
       "      <th>1</th>\n",
       "      <td>carnarvon</td>\n",
       "      <td>AU</td>\n",
       "      <td>0</td>\n",
       "      <td>-24.8667</td>\n",
       "      <td>113.6333</td>\n",
       "      <td>73.67</td>\n",
       "      <td>14.38</td>\n",
       "      <td>Carnarvon Hotel</td>\n",
       "    </tr>\n",
       "    <tr>\n",
       "      <th>2</th>\n",
       "      <td>jasper</td>\n",
       "      <td>US</td>\n",
       "      <td>0</td>\n",
       "      <td>37.2001</td>\n",
       "      <td>-94.3502</td>\n",
       "      <td>73.00</td>\n",
       "      <td>14.97</td>\n",
       "      <td>Days Inn by Wyndham Carthage</td>\n",
       "    </tr>\n",
       "    <tr>\n",
       "      <th>3</th>\n",
       "      <td>gatesville</td>\n",
       "      <td>US</td>\n",
       "      <td>0</td>\n",
       "      <td>31.4352</td>\n",
       "      <td>-97.7439</td>\n",
       "      <td>72.36</td>\n",
       "      <td>16.42</td>\n",
       "      <td>Holiday Inn Express &amp; Suites Gatesville - N. F...</td>\n",
       "    </tr>\n",
       "    <tr>\n",
       "      <th>4</th>\n",
       "      <td>arlington</td>\n",
       "      <td>US</td>\n",
       "      <td>0</td>\n",
       "      <td>32.7357</td>\n",
       "      <td>-97.1081</td>\n",
       "      <td>77.32</td>\n",
       "      <td>18.41</td>\n",
       "      <td>Courtyard by Marriott Dallas Arlington/Enterta...</td>\n",
       "    </tr>\n",
       "  </tbody>\n",
       "</table>\n",
       "</div>"
      ],
      "text/plain": [
       "         City Country  Cloudiness      Lat       Lng  Max Temp  Wind Speed  \\\n",
       "0      atuona      PF           0  -9.8000 -139.0333     76.98       14.32   \n",
       "1   carnarvon      AU           0 -24.8667  113.6333     73.67       14.38   \n",
       "2      jasper      US           0  37.2001  -94.3502     73.00       14.97   \n",
       "3  gatesville      US           0  31.4352  -97.7439     72.36       16.42   \n",
       "4   arlington      US           0  32.7357  -97.1081     77.32       18.41   \n",
       "\n",
       "                                          Hotel Name  \n",
       "0                        Hôtel Hiva Oa Hanakee Lodge  \n",
       "1                                    Carnarvon Hotel  \n",
       "2                       Days Inn by Wyndham Carthage  \n",
       "3  Holiday Inn Express & Suites Gatesville - N. F...  \n",
       "4  Courtyard by Marriott Dallas Arlington/Enterta...  "
      ]
     },
     "execution_count": 86,
     "metadata": {},
     "output_type": "execute_result"
    }
   ],
   "source": [
    "# display the dataframe with new values\n",
    "hotel_df"
   ]
  },
  {
   "cell_type": "code",
   "execution_count": 78,
   "id": "66eeb273",
   "metadata": {},
   "outputs": [
    {
     "data": {
      "application/vnd.jupyter.widget-view+json": {
       "model_id": "1359c4c0750d453897825e69a7f1a227",
       "version_major": 2,
       "version_minor": 0
      },
      "text/plain": [
       "Figure(layout=FigureLayout(height='420px'))"
      ]
     },
     "metadata": {},
     "output_type": "display_data"
    }
   ],
   "source": [
    "# Using the template add the hotel marks to the heatmap\n",
    "info_box_template = \"\"\"\n",
    "<dl>\n",
    "<dt>Name</dt><dd>{Hotel Name}</dd>\n",
    "<dt>City</dt><dd>{City}</dd>\n",
    "<dt>Country</dt><dd>{Country}</dd>\n",
    "</dl>\n",
    "\"\"\"\n",
    "# Store the DataFrame Row\n",
    "# NOTE: be sure to update with your DataFrame name\n",
    "hotel_info = [info_box_template.format(**row) for index, row in hotel_df.iterrows()]\n",
    "locations = hotel_df[[\"Lat\", \"Lng\"]].astype(float)\n",
    "\n",
    "# Create HeatMap\n",
    "\n",
    "fig = gmaps.figure()\n",
    "marker_layer = gmaps.marker_layer(locations,info_box_content=hotel_info)\n",
    "fig.add_layer(marker_layer)\n",
    "fig\n",
    "\n"
   ]
  },
  {
   "cell_type": "code",
   "execution_count": 79,
   "id": "5a98821e",
   "metadata": {},
   "outputs": [
    {
     "data": {
      "application/vnd.jupyter.widget-view+json": {
       "model_id": "091f25f635ef455f9dc9752ae26b4ecd",
       "version_major": 2,
       "version_minor": 0
      },
      "text/plain": [
       "Figure(layout=FigureLayout(height='420px'))"
      ]
     },
     "metadata": {},
     "output_type": "display_data"
    }
   ],
   "source": [
    "# Create a combined map\n",
    "fig = gmaps.figure()\n",
    "\n",
    "fig.add_layer(heat_layer)\n",
    "fig.add_layer(marker_layer)\n",
    "\n",
    "fig"
   ]
  },
  {
   "cell_type": "code",
   "execution_count": null,
   "id": "87315346",
   "metadata": {},
   "outputs": [],
   "source": []
  }
 ],
 "metadata": {
  "kernelspec": {
   "display_name": "PythonData",
   "language": "python",
   "name": "pythondata"
  },
  "language_info": {
   "codemirror_mode": {
    "name": "ipython",
    "version": 3
   },
   "file_extension": ".py",
   "mimetype": "text/x-python",
   "name": "python",
   "nbconvert_exporter": "python",
   "pygments_lexer": "ipython3",
   "version": "3.7.7"
  }
 },
 "nbformat": 4,
 "nbformat_minor": 5
}
